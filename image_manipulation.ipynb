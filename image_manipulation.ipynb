{
 "cells": [
  {
   "cell_type": "markdown",
   "id": "3c6df69c",
   "metadata": {},
   "source": [
    "# Image content manipulation\n",
    "\n",
    "This project demonstrates the usage of image manipulation by image segmentation and content creation in those selected areas.\n"
   ]
  },
  {
   "cell_type": "code",
   "execution_count": 1,
   "id": "f4742765",
   "metadata": {},
   "outputs": [],
   "source": [
    "from PIL import Image\n",
    "import requests\n",
    "from transformers import SamModel, SamProcessor\n",
    "from diffusers import DiffusionPipeline, AutoPipelineForText2Image, AutoPipelineForInpainting\n",
    "from diffusers.utils import load_image, make_image_grid\n",
    "\n",
    "import torch\n",
    "import numpy as np"
   ]
  },
  {
   "cell_type": "markdown",
   "id": "4444b44e",
   "metadata": {},
   "source": [
    "## SAM\n",
    "\n",
    "In order to swiftly segment objects from arbitrary images, SAM or segment anything from Meta, as shown an outstanding performance. Its qualities are being used instead a different or self established model, to keep the code parts streamlined."
   ]
  },
  {
   "cell_type": "code",
   "execution_count": 2,
   "id": "e37037aa",
   "metadata": {},
   "outputs": [],
   "source": [
    "device = \"cuda\" if torch.cuda.is_available() else \"cpu\"\n",
    "model = SamModel.from_pretrained(\"facebook/sam-vit-huge\").to(device)\n",
    "processor = SamProcessor.from_pretrained(\"facebook/sam-vit-huge\")"
   ]
  },
  {
   "cell_type": "markdown",
   "id": "34e647b2",
   "metadata": {},
   "source": [
    "### Extracting the mask\n",
    "\n",
    "After SAM has been loaded, the segmented mask will be extracted for further usage"
   ]
  },
  {
   "cell_type": "code",
   "execution_count": 3,
   "id": "c10aed63",
   "metadata": {},
   "outputs": [],
   "source": [
    "def mask_to_rgb(mask):\n",
    "    \"\"\"\n",
    "    Transforms a binary mask into an RGBA image for visualization\n",
    "    \"\"\"\n",
    "    \n",
    "    bg_transparent = np.zeros(mask.shape + (4, ), dtype=np.uint8)\n",
    "    \n",
    "    # Remove image content by drawing it green\n",
    "    bg_transparent[mask == 1] = [0, 255, 0, 127]\n",
    "    \n",
    "    return bg_transparent\n",
    "\n",
    "\n",
    "def get_processed_inputs(image, input_points):\n",
    "    inputs = processor(image, input_points=input_points, return_tensors=\"pt\").to(device)\n",
    "    with torch.no_grad():\n",
    "        outputs = model(**inputs)\n",
    "    \n",
    "    masks = processor.image_processor.post_process_masks(\n",
    "       outputs.pred_masks.cpu(), \n",
    "       inputs[\"original_sizes\"].cpu(), \n",
    "       inputs[\"reshaped_input_sizes\"].cpu()\n",
    "    )\n",
    "    \n",
    "    # Work with the most likeliest score\n",
    "    best_mask = masks[0][0][outputs.iou_scores.argmax()] \n",
    "    return ~best_mask.cpu().numpy()"
   ]
  },
  {
   "attachments": {},
   "cell_type": "markdown",
   "id": "e4e2822c",
   "metadata": {},
   "source": [
    "Running an examplary segmentation of the following object\n",
    "\n"
   ]
  },
  {
   "cell_type": "code",
   "execution_count": 4,
   "id": "8cea615b",
   "metadata": {},
   "outputs": [
    {
     "data": {
      "image/png": "[encoded data removed]",
      "text/plain": [
       "<PIL.Image.Image image mode=RGBA size=128x128>"
      ]
     },
     "execution_count": 4,
     "metadata": {},
     "output_type": "execute_result"
    }
   ],
   "source": [
    "raw_image_test = Image.open(\"car.png\").convert(\"RGB\").resize((512, 512))\n",
    "\n",
    "# These are the coordinates of two points on the car\n",
    "input_points_test = [[[150, 170], [300, 250]]]\n",
    "\n",
    "mask_test = get_processed_inputs(raw_image_test, input_points_test)\n",
    "\n",
    "Image.fromarray(mask_to_rgb(mask_test)).resize((128, 128))"
   ]
  },
  {
   "cell_type": "markdown",
   "id": "e9bb0fb5",
   "metadata": {},
   "source": [
    "## Inpainting\n",
    "\n",
    "After the segmentation part is being secured, the image manipulation needs to be prepared"
   ]
  },
  {
   "cell_type": "code",
   "execution_count": null,
   "id": "301bf035",
   "metadata": {},
   "outputs": [
    {
     "data": {
      "application/vnd.jupyter.widget-view+json": {
       "model_id": "c13015e9881a4cf1865d15ecdb527490",
       "version_major": 2,
       "version_minor": 0
      },
      "text/plain": [
       "Fetching 18 files:   0%|          | 0/18 [00:00<?, ?it/s]"
      ]
     },
     "metadata": {},
     "output_type": "display_data"
    }
   ],
   "source": [
    "pipeline = AutoPipelineForInpainting.from_pretrained(\n",
    "   \"diffusers/stable-diffusion-xl-1.0-inpainting-0.1\",\n",
    "    torch_dtype=torch.float16\n",
    ").to(device)\n",
    "pipeline.enable_model_cpu_offload()"
   ]
  },
  {
   "cell_type": "code",
   "execution_count": null,
   "id": "224b2928",
   "metadata": {},
   "outputs": [],
   "source": [
    "def inpaint(raw_image, input_mask, prompt, negative_prompt=None, seed=74294536, cfgs=7):\n",
    "    \n",
    "    mask_image = Image.fromarray(input_mask)\n",
    "    \n",
    "    rand_gen = torch.manual_seed(seed)\n",
    "    \n",
    "    image = pipeline(\n",
    "        image=raw_image,\n",
    "        mask_image=mask_image,\n",
    "        prompt=prompt,\n",
    "        negative_prompt=negative_prompt if (negative_prompt is not None) else [],\n",
    "        rand_gen=rand_gen,\n",
    "        cfgs=cfgs\n",
    "    ).images[0]\n",
    "    \n",
    "    return image"
   ]
  },
  {
   "cell_type": "markdown",
   "id": "06ca6efe",
   "metadata": {},
   "source": [
    "Completing the experiment with a prompt that describes what should be changed within the original image"
   ]
  },
  {
   "cell_type": "code",
   "execution_count": null,
   "id": "c7bb51e7",
   "metadata": {},
   "outputs": [],
   "source": [
    "prompt_test = \"a car driving on Mars. Studio lights, 1970s\"\n",
    "negative_prompt_test = \"artifacts, low quality, distortion\"\n",
    "\n",
    "image = inpaint(raw_image_test, mask_test, prompt_test, negative_prompt_test)"
   ]
  },
  {
   "cell_type": "code",
   "execution_count": null,
   "id": "d4d87a1a",
   "metadata": {},
   "outputs": [],
   "source": [
    "fig = make_image_grid([raw_image_test, Image.fromarray(mask_to_rgb(mask_test)), image.resize((512, 512))], rows=1, cols=3)\n",
    "fig"
   ]
  }
 ],
 "metadata": {
  "kernelspec": {
   "display_name": "genai",
   "language": "python",
   "name": "genai"
  },
  "language_info": {
   "codemirror_mode": {
    "name": "ipython",
    "version": 3
   },
   "file_extension": ".py",
   "mimetype": "text/x-python",
   "name": "python",
   "nbconvert_exporter": "python",
   "pygments_lexer": "ipython3",
   "version": "3.11.2"
  }
 },
 "nbformat": 4,
 "nbformat_minor": 5
}
